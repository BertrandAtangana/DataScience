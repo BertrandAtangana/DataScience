{
 "cells": [
  {
   "cell_type": "code",
   "execution_count": null,
   "metadata": {},
   "outputs": [],
   "source": [
    "#fonction pour verifier si un fichier existe\n",
    "\n",
    "def verifier_fichier():\n",
    "    if os.path.exists(\"fichier.txt\"):\n",
    "                      \n",
    "\n"
   ]
  },
  {
   "cell_type": "code",
   "execution_count": 1,
   "metadata": {},
   "outputs": [
    {
     "name": "stdout",
     "output_type": "stream",
     "text": [
      "{'__name__': '__main__', '__doc__': 'Automatically created module for IPython interactive environment', '__package__': None, '__loader__': None, '__spec__': None, '__builtin__': <module 'builtins' (built-in)>, '__builtins__': <module 'builtins' (built-in)>, '_ih': ['', 'def foot():\\n    b = 5\\n    \\na = 5\\nfoot()\\nprint(globals())'], '_oh': {}, '_dh': [WindowsPath('c:/Users/batan/downloads/DataScience'), WindowsPath('c:/Users/batan/downloads/DataScience')], 'In': ['', 'def foot():\\n    b = 5\\n    \\na = 5\\nfoot()\\nprint(globals())'], 'Out': {}, 'get_ipython': <bound method InteractiveShell.get_ipython of <ipykernel.zmqshell.ZMQInteractiveShell object at 0x00000288390739D0>>, 'exit': <IPython.core.autocall.ZMQExitAutocall object at 0x0000028839072F20>, 'quit': <IPython.core.autocall.ZMQExitAutocall object at 0x0000028839072F20>, '_': '', '__': '', '___': '', '__vsc_ipynb_file__': 'c:\\\\Users\\\\batan\\\\downloads\\\\DataScience\\\\fonctions.ipynb', '_i': '', '_ii': '', '_iii': '', '_i1': 'def foot():\\n    b = 5\\n    \\na = 5\\nfoot()\\nprint(globals())', 'foot': <function foot at 0x00000288391FD360>, 'a': 5}\n"
     ]
    }
   ],
   "source": [
    "def foot():\n",
    "    b = 5\n",
    "    \n",
    "a = 5\n",
    "foot()\n",
    "print(globals())"
   ]
  },
  {
   "cell_type": "code",
   "execution_count": 2,
   "metadata": {},
   "outputs": [
    {
     "name": "stdout",
     "output_type": "stream",
     "text": [
      "{'__name__': '__main__', '__doc__': 'Automatically created module for IPython interactive environment', '__package__': None, '__loader__': None, '__spec__': None, '__builtin__': <module 'builtins' (built-in)>, '__builtins__': <module 'builtins' (built-in)>, '_ih': ['', 'def foot():\\n    b = 5\\n    \\na = 5\\nfoot()\\nprint(globals())', 'def foot():\\n    b = 5\\n    \\na = 5\\nfoot()\\nprint(locals())'], '_oh': {}, '_dh': [WindowsPath('c:/Users/batan/downloads/DataScience'), WindowsPath('c:/Users/batan/downloads/DataScience')], 'In': ['', 'def foot():\\n    b = 5\\n    \\na = 5\\nfoot()\\nprint(globals())', 'def foot():\\n    b = 5\\n    \\na = 5\\nfoot()\\nprint(locals())'], 'Out': {}, 'get_ipython': <bound method InteractiveShell.get_ipython of <ipykernel.zmqshell.ZMQInteractiveShell object at 0x00000288390739D0>>, 'exit': <IPython.core.autocall.ZMQExitAutocall object at 0x0000028839072F20>, 'quit': <IPython.core.autocall.ZMQExitAutocall object at 0x0000028839072F20>, '_': '', '__': '', '___': '', '__vsc_ipynb_file__': 'c:\\\\Users\\\\batan\\\\downloads\\\\DataScience\\\\fonctions.ipynb', '_i': 'def foot():\\n    b = 5\\n    \\na = 5\\nfoot()\\nprint(globals())', '_ii': '', '_iii': '', '_i1': 'def foot():\\n    b = 5\\n    \\na = 5\\nfoot()\\nprint(globals())', 'foot': <function foot at 0x00000288391FD5A0>, 'a': 5, '_i2': 'def foot():\\n    b = 5\\n    \\na = 5\\nfoot()\\nprint(locals())'}\n"
     ]
    }
   ],
   "source": [
    "def foot():\n",
    "    b = 5\n",
    "    \n",
    "    \n",
    "a = 5\n",
    "foot()\n",
    "print(locals())"
   ]
  },
  {
   "cell_type": "code",
   "execution_count": 4,
   "metadata": {},
   "outputs": [
    {
     "name": "stdout",
     "output_type": "stream",
     "text": [
      "{'b': 5}\n"
     ]
    }
   ],
   "source": [
    "def foot():\n",
    "    b = 5\n",
    "    print(locals())\n",
    "a = 5\n",
    "foot()\n"
   ]
  },
  {
   "cell_type": "code",
   "execution_count": 5,
   "metadata": {},
   "outputs": [
    {
     "name": "stdout",
     "output_type": "stream",
     "text": [
      "{'__name__': '__main__', '__doc__': 'Automatically created module for IPython interactive environment', '__package__': None, '__loader__': None, '__spec__': None, '__builtin__': <module 'builtins' (built-in)>, '__builtins__': <module 'builtins' (built-in)>, '_ih': ['', 'def foot():\\n    b = 5\\n    \\na = 5\\nfoot()\\nprint(globals())', 'def foot():\\n    b = 5\\n    \\na = 5\\nfoot()\\nprint(locals())', 'def foot():\\n    b = 5\\n    print(locals())\\na = 5\\nfoot()\\nprint(locals())', 'def foot():\\n    b = 5\\n    print(locals())\\na = 5\\nfoot()', 'def foot():\\n    b = 5\\n    print(globals())\\na = 5\\nfoot()'], '_oh': {}, '_dh': [WindowsPath('c:/Users/batan/downloads/DataScience'), WindowsPath('c:/Users/batan/downloads/DataScience')], 'In': ['', 'def foot():\\n    b = 5\\n    \\na = 5\\nfoot()\\nprint(globals())', 'def foot():\\n    b = 5\\n    \\na = 5\\nfoot()\\nprint(locals())', 'def foot():\\n    b = 5\\n    print(locals())\\na = 5\\nfoot()\\nprint(locals())', 'def foot():\\n    b = 5\\n    print(locals())\\na = 5\\nfoot()', 'def foot():\\n    b = 5\\n    print(globals())\\na = 5\\nfoot()'], 'Out': {}, 'get_ipython': <bound method InteractiveShell.get_ipython of <ipykernel.zmqshell.ZMQInteractiveShell object at 0x00000288390739D0>>, 'exit': <IPython.core.autocall.ZMQExitAutocall object at 0x0000028839072F20>, 'quit': <IPython.core.autocall.ZMQExitAutocall object at 0x0000028839072F20>, '_': '', '__': '', '___': '', '__vsc_ipynb_file__': 'c:\\\\Users\\\\batan\\\\downloads\\\\DataScience\\\\fonctions.ipynb', '_i': 'def foot():\\n    b = 5\\n    print(locals())\\na = 5\\nfoot()', '_ii': 'def foot():\\n    b = 5\\n    print(locals())\\na = 5\\nfoot()\\nprint(locals())', '_iii': 'def foot():\\n    b = 5\\n    \\na = 5\\nfoot()\\nprint(locals())', '_i1': 'def foot():\\n    b = 5\\n    \\na = 5\\nfoot()\\nprint(globals())', 'foot': <function foot at 0x000002883911C430>, 'a': 5, '_i2': 'def foot():\\n    b = 5\\n    \\na = 5\\nfoot()\\nprint(locals())', '_i3': 'def foot():\\n    b = 5\\n    print(locals())\\na = 5\\nfoot()\\nprint(locals())', '_i4': 'def foot():\\n    b = 5\\n    print(locals())\\na = 5\\nfoot()', '_i5': 'def foot():\\n    b = 5\\n    print(globals())\\na = 5\\nfoot()'}\n"
     ]
    }
   ],
   "source": [
    "def foot():\n",
    "    b = 5\n",
    "    print(globals())\n",
    "a = 5\n",
    "foot()"
   ]
  },
  {
   "cell_type": "code",
   "execution_count": 9,
   "metadata": {},
   "outputs": [
    {
     "name": "stdout",
     "output_type": "stream",
     "text": [
      "{'__name__': '__main__', '__doc__': 'Automatically created module for IPython interactive environment', '__package__': None, '__loader__': None, '__spec__': None, '__builtin__': <module 'builtins' (built-in)>, '__builtins__': <module 'builtins' (built-in)>, '_ih': ['', 'def foot():\\n    b = 5\\n    \\na = 5\\nfoot()\\nprint(globals())', 'def foot():\\n    b = 5\\n    \\na = 5\\nfoot()\\nprint(locals())', 'def foot():\\n    b = 5\\n    print(locals())\\na = 5\\nfoot()\\nprint(locals())', 'def foot():\\n    b = 5\\n    print(locals())\\na = 5\\nfoot()', 'def foot():\\n    b = 5\\n    print(globals())\\na = 5\\nfoot()', 'def foot():\\n    b = 5\\n    print(globals())\\n    print(a)\\na = 5\\nfoot()', 'def foot():\\n    b = 5\\n    print(globals())\\n    print(b)\\na = 5\\nfoot()', 'def foot():\\n    b = 5\\n    print(globals())\\n    print(a)\\na = 5\\nfoot()', '#espace global et espace local\\ndef foot():\\n    b = 5\\n    print(globals())\\n    print(a)\\na = 5\\nfoot()'], '_oh': {}, '_dh': [WindowsPath('c:/Users/batan/downloads/DataScience'), WindowsPath('c:/Users/batan/downloads/DataScience')], 'In': ['', 'def foot():\\n    b = 5\\n    \\na = 5\\nfoot()\\nprint(globals())', 'def foot():\\n    b = 5\\n    \\na = 5\\nfoot()\\nprint(locals())', 'def foot():\\n    b = 5\\n    print(locals())\\na = 5\\nfoot()\\nprint(locals())', 'def foot():\\n    b = 5\\n    print(locals())\\na = 5\\nfoot()', 'def foot():\\n    b = 5\\n    print(globals())\\na = 5\\nfoot()', 'def foot():\\n    b = 5\\n    print(globals())\\n    print(a)\\na = 5\\nfoot()', 'def foot():\\n    b = 5\\n    print(globals())\\n    print(b)\\na = 5\\nfoot()', 'def foot():\\n    b = 5\\n    print(globals())\\n    print(a)\\na = 5\\nfoot()', '#espace global et espace local\\ndef foot():\\n    b = 5\\n    print(globals())\\n    print(a)\\na = 5\\nfoot()'], 'Out': {}, 'get_ipython': <bound method InteractiveShell.get_ipython of <ipykernel.zmqshell.ZMQInteractiveShell object at 0x00000288390739D0>>, 'exit': <IPython.core.autocall.ZMQExitAutocall object at 0x0000028839072F20>, 'quit': <IPython.core.autocall.ZMQExitAutocall object at 0x0000028839072F20>, '_': '', '__': '', '___': '', '__vsc_ipynb_file__': 'c:\\\\Users\\\\batan\\\\downloads\\\\DataScience\\\\fonctions.ipynb', '_i': 'def foot():\\n    b = 5\\n    print(globals())\\n    print(a)\\na = 5\\nfoot()', '_ii': 'def foot():\\n    b = 5\\n    print(globals())\\n    print(b)\\na = 5\\nfoot()', '_iii': 'def foot():\\n    b = 5\\n    print(globals())\\n    print(a)\\na = 5\\nfoot()', '_i1': 'def foot():\\n    b = 5\\n    \\na = 5\\nfoot()\\nprint(globals())', 'foot': <function foot at 0x00000288391FD480>, 'a': 5, '_i2': 'def foot():\\n    b = 5\\n    \\na = 5\\nfoot()\\nprint(locals())', '_i3': 'def foot():\\n    b = 5\\n    print(locals())\\na = 5\\nfoot()\\nprint(locals())', '_i4': 'def foot():\\n    b = 5\\n    print(locals())\\na = 5\\nfoot()', '_i5': 'def foot():\\n    b = 5\\n    print(globals())\\na = 5\\nfoot()', '_i6': 'def foot():\\n    b = 5\\n    print(globals())\\n    print(a)\\na = 5\\nfoot()', '_i7': 'def foot():\\n    b = 5\\n    print(globals())\\n    print(b)\\na = 5\\nfoot()', '_i8': 'def foot():\\n    b = 5\\n    print(globals())\\n    print(a)\\na = 5\\nfoot()', '_i9': '#espace global et espace local\\ndef foot():\\n    b = 5\\n    print(globals())\\n    print(a)\\na = 5\\nfoot()'}\n",
      "5\n"
     ]
    }
   ],
   "source": [
    "#espace global et espace local\n",
    "def foot():\n",
    "    b = 5\n",
    "    print(globals())\n",
    "    print(a)\n",
    "a = 5\n",
    "foot()"
   ]
  },
  {
   "cell_type": "code",
   "execution_count": 12,
   "metadata": {},
   "outputs": [
    {
     "name": "stdout",
     "output_type": "stream",
     "text": [
      "Tu as tout faux !\n"
     ]
    }
   ],
   "source": [
    "#on a le mauvais commentaire\n",
    "def get_comment(note):\n",
    "    if note > 15:\n",
    "        commentaire = \"bravo!\"\n",
    "    elif note > 10:\n",
    "        commentaire = \"Peut mieux faire...\"\n",
    "    elif note > 5:\n",
    "        commentaire = \"Atention!\"\n",
    "commentaire =\"Tu as tout faux !\"\n",
    "\n",
    "get_comment(20)\n",
    "print(commentaire)"
   ]
  },
  {
   "cell_type": "code",
   "execution_count": 16,
   "metadata": {},
   "outputs": [
    {
     "name": "stdout",
     "output_type": "stream",
     "text": [
      "bravo!\n"
     ]
    }
   ],
   "source": [
    "#on a le bon commentaire\n",
    "def get_comment(note):\n",
    "    global commentaire\n",
    "    if note > 15:\n",
    "        commentaire = \"bravo!\"\n",
    "    elif note > 10:\n",
    "        commentaire = \"Peut mieux faire...\"\n",
    "    elif note > 5:\n",
    "        commentaire = \"Atention!\"\n",
    "commentaire =\"Tu as tout faux !\"\n",
    "\n",
    "get_comment(20)\n",
    "print(commentaire)"
   ]
  },
  {
   "cell_type": "code",
   "execution_count": 21,
   "metadata": {},
   "outputs": [
    {
     "name": "stdout",
     "output_type": "stream",
     "text": [
      "bravo!\n"
     ]
    }
   ],
   "source": [
    "#bon code\n",
    "def get_comment(note):\n",
    "    if note > 15:\n",
    "        return \"bravo!\"\n",
    "    elif note > 10:\n",
    "        return \"Peut mieux faire...\"\n",
    "    elif note > 5:\n",
    "        return \"Atention!\"\n",
    "    else:\n",
    "        return \"Tu as tout faux !\"\n",
    "    \n",
    "\n",
    "commentaire=get_comment(20)\n",
    "print(commentaire)"
   ]
  },
  {
   "cell_type": "code",
   "execution_count": 22,
   "metadata": {},
   "outputs": [
    {
     "name": "stdout",
     "output_type": "stream",
     "text": [
      "2784019218800\n",
      "2784019218800\n"
     ]
    }
   ],
   "source": [
    "# le passage par reference\n",
    "\n",
    "def foo(param):\n",
    "    print(id(param))\n",
    "    \n",
    "var = 5\n",
    "print(id(var))\n",
    "foo(param=var)"
   ]
  },
  {
   "cell_type": "code",
   "execution_count": 24,
   "metadata": {},
   "outputs": [
    {
     "name": "stdout",
     "output_type": "stream",
     "text": [
      "5\n"
     ]
    }
   ],
   "source": [
    "def foo(param):\n",
    "    param = 10\n",
    "    \n",
    "var = 5\n",
    "foo(param=var)\n",
    "print(var)"
   ]
  },
  {
   "cell_type": "code",
   "execution_count": 26,
   "metadata": {},
   "outputs": [
    {
     "name": "stdout",
     "output_type": "stream",
     "text": [
      "2784097288576\n",
      "2784097288576\n",
      "[1]\n"
     ]
    }
   ],
   "source": [
    "def foo(param):\n",
    "    print(id(param))\n",
    "    param.append(1)\n",
    "    \n",
    "var = []\n",
    "print(id(var))\n",
    "foo(param=var)\n",
    "print(var)"
   ]
  },
  {
   "cell_type": "code",
   "execution_count": 32,
   "metadata": {},
   "outputs": [
    {
     "name": "stdout",
     "output_type": "stream",
     "text": [
      "[1, 2, 3, 4]\n",
      "[1, 2, 3]\n"
     ]
    }
   ],
   "source": [
    "# ici on n'a pas modifier notre variable en dehors de la fonction puisqu'on a fait une copy de cet objet qu'on a mis dans une nouvelle\n",
    "# variable et donc on n'a pas touché à l'objet d'origine\n",
    "def foo(param):\n",
    "    test = param.copy()\n",
    "    test.append(4)\n",
    "    print(test)\n",
    "    \n",
    "var = [1,2,3]\n",
    "foo(param=var)\n",
    "print(var)"
   ]
  }
 ],
 "metadata": {
  "kernelspec": {
   "display_name": "Python 3",
   "language": "python",
   "name": "python3"
  },
  "language_info": {
   "codemirror_mode": {
    "name": "ipython",
    "version": 3
   },
   "file_extension": ".py",
   "mimetype": "text/x-python",
   "name": "python",
   "nbconvert_exporter": "python",
   "pygments_lexer": "ipython3",
   "version": "3.10.9"
  }
 },
 "nbformat": 4,
 "nbformat_minor": 2
}
